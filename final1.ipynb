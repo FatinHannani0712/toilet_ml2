{
 "cells": [
  {
   "cell_type": "code",
   "execution_count": 13,
   "id": "e28ca69e-800a-4449-821c-4cdf979f5008",
   "metadata": {},
   "outputs": [
    {
     "name": "stdout",
     "output_type": "stream",
     "text": [
      "Dataset loaded with shape: (256047, 6)\n",
      "Sample data:\n",
      "                 timestamp  ammonia  humidity  temperature   iaq         co2\n",
      "120056 2024-01-02 08:00:00     0.60     51.98        33.53  25.0  444.380574\n",
      "120057 2024-01-02 08:10:00     0.62     51.53        33.50  25.0  660.025458\n",
      "120058 2024-01-02 08:20:00     0.69     50.50        33.36  25.0  730.562588\n",
      "120059 2024-01-02 08:30:00     0.70     53.35        32.18  25.0  446.682289\n",
      "120060 2024-01-02 08:40:00     0.72     53.70        31.77  25.0  426.741106\n",
      "Training sequences: 204765\n",
      "Test sequences: 51192\n"
     ]
    },
    {
     "name": "stderr",
     "output_type": "stream",
     "text": [
      "C:\\Users\\atinh\\AppData\\Local\\Programs\\Python\\Python311\\Lib\\site-packages\\keras\\src\\layers\\convolutional\\base_conv.py:107: UserWarning: Do not pass an `input_shape`/`input_dim` argument to a layer. When using Sequential models, prefer using an `Input(shape)` object as the first layer in the model instead.\n",
      "  super().__init__(activity_regularizer=activity_regularizer, **kwargs)\n"
     ]
    },
    {
     "name": "stdout",
     "output_type": "stream",
     "text": [
      "Epoch 1/20\n",
      "\u001b[1m2880/2880\u001b[0m \u001b[32m━━━━━━━━━━━━━━━━━━━━\u001b[0m\u001b[37m\u001b[0m \u001b[1m91s\u001b[0m 30ms/step - loss: 0.0302 - val_loss: 0.0200\n",
      "Epoch 2/20\n",
      "\u001b[1m2880/2880\u001b[0m \u001b[32m━━━━━━━━━━━━━━━━━━━━\u001b[0m\u001b[37m\u001b[0m \u001b[1m140s\u001b[0m 29ms/step - loss: 0.0228 - val_loss: 0.0198\n",
      "Epoch 3/20\n",
      "\u001b[1m2880/2880\u001b[0m \u001b[32m━━━━━━━━━━━━━━━━━━━━\u001b[0m\u001b[37m\u001b[0m \u001b[1m137s\u001b[0m 27ms/step - loss: 0.0225 - val_loss: 0.0199\n",
      "Epoch 4/20\n",
      "\u001b[1m2880/2880\u001b[0m \u001b[32m━━━━━━━━━━━━━━━━━━━━\u001b[0m\u001b[37m\u001b[0m \u001b[1m87s\u001b[0m 30ms/step - loss: 0.0222 - val_loss: 0.0198\n",
      "Epoch 5/20\n",
      "\u001b[1m2880/2880\u001b[0m \u001b[32m━━━━━━━━━━━━━━━━━━━━\u001b[0m\u001b[37m\u001b[0m \u001b[1m85s\u001b[0m 29ms/step - loss: 0.0222 - val_loss: 0.0198\n",
      "Epoch 6/20\n",
      "\u001b[1m2880/2880\u001b[0m \u001b[32m━━━━━━━━━━━━━━━━━━━━\u001b[0m\u001b[37m\u001b[0m \u001b[1m78s\u001b[0m 27ms/step - loss: 0.0221 - val_loss: 0.0198\n",
      "Epoch 7/20\n",
      "\u001b[1m2880/2880\u001b[0m \u001b[32m━━━━━━━━━━━━━━━━━━━━\u001b[0m\u001b[37m\u001b[0m \u001b[1m87s\u001b[0m 30ms/step - loss: 0.0221 - val_loss: 0.0197\n",
      "Epoch 8/20\n",
      "\u001b[1m2880/2880\u001b[0m \u001b[32m━━━━━━━━━━━━━━━━━━━━\u001b[0m\u001b[37m\u001b[0m \u001b[1m87s\u001b[0m 30ms/step - loss: 0.0221 - val_loss: 0.0197\n",
      "Epoch 9/20\n",
      "\u001b[1m2880/2880\u001b[0m \u001b[32m━━━━━━━━━━━━━━━━━━━━\u001b[0m\u001b[37m\u001b[0m \u001b[1m87s\u001b[0m 30ms/step - loss: 0.0221 - val_loss: 0.0198\n",
      "Epoch 10/20\n",
      "\u001b[1m2880/2880\u001b[0m \u001b[32m━━━━━━━━━━━━━━━━━━━━\u001b[0m\u001b[37m\u001b[0m \u001b[1m87s\u001b[0m 30ms/step - loss: 0.0221 - val_loss: 0.0197\n",
      "Epoch 11/20\n",
      "\u001b[1m2880/2880\u001b[0m \u001b[32m━━━━━━━━━━━━━━━━━━━━\u001b[0m\u001b[37m\u001b[0m \u001b[1m140s\u001b[0m 30ms/step - loss: 0.0221 - val_loss: 0.0197\n",
      "Epoch 12/20\n",
      "\u001b[1m2880/2880\u001b[0m \u001b[32m━━━━━━━━━━━━━━━━━━━━\u001b[0m\u001b[37m\u001b[0m \u001b[1m87s\u001b[0m 30ms/step - loss: 0.0220 - val_loss: 0.0197\n",
      "Epoch 13/20\n",
      "\u001b[1m2880/2880\u001b[0m \u001b[32m━━━━━━━━━━━━━━━━━━━━\u001b[0m\u001b[37m\u001b[0m \u001b[1m142s\u001b[0m 30ms/step - loss: 0.0220 - val_loss: 0.0197\n",
      "Epoch 14/20\n",
      "\u001b[1m2880/2880\u001b[0m \u001b[32m━━━━━━━━━━━━━━━━━━━━\u001b[0m\u001b[37m\u001b[0m \u001b[1m142s\u001b[0m 30ms/step - loss: 0.0220 - val_loss: 0.0197\n",
      "Epoch 15/20\n",
      "\u001b[1m2880/2880\u001b[0m \u001b[32m━━━━━━━━━━━━━━━━━━━━\u001b[0m\u001b[37m\u001b[0m \u001b[1m77s\u001b[0m 27ms/step - loss: 0.0220 - val_loss: 0.0197\n",
      "Epoch 16/20\n",
      "\u001b[1m2880/2880\u001b[0m \u001b[32m━━━━━━━━━━━━━━━━━━━━\u001b[0m\u001b[37m\u001b[0m \u001b[1m79s\u001b[0m 27ms/step - loss: 0.0220 - val_loss: 0.0197\n",
      "Epoch 17/20\n",
      "\u001b[1m2880/2880\u001b[0m \u001b[32m━━━━━━━━━━━━━━━━━━━━\u001b[0m\u001b[37m\u001b[0m \u001b[1m81s\u001b[0m 28ms/step - loss: 0.0220 - val_loss: 0.0197\n",
      "Epoch 18/20\n",
      "\u001b[1m2880/2880\u001b[0m \u001b[32m━━━━━━━━━━━━━━━━━━━━\u001b[0m\u001b[37m\u001b[0m \u001b[1m79s\u001b[0m 27ms/step - loss: 0.0220 - val_loss: 0.0197\n",
      "Epoch 19/20\n",
      "\u001b[1m2880/2880\u001b[0m \u001b[32m━━━━━━━━━━━━━━━━━━━━\u001b[0m\u001b[37m\u001b[0m \u001b[1m85s\u001b[0m 29ms/step - loss: 0.0220 - val_loss: 0.0197\n",
      "Epoch 20/20\n",
      "\u001b[1m2880/2880\u001b[0m \u001b[32m━━━━━━━━━━━━━━━━━━━━\u001b[0m\u001b[37m\u001b[0m \u001b[1m87s\u001b[0m 30ms/step - loss: 0.0220 - val_loss: 0.0197\n"
     ]
    },
    {
     "name": "stderr",
     "output_type": "stream",
     "text": [
      "WARNING:absl:You are saving your model as an HDF5 file via `model.save()` or `keras.saving.save_model(model)`. This file format is considered legacy. We recommend using instead the native Keras format, e.g. `model.save('my_model.keras')` or `keras.saving.save_model(model, 'my_model.keras')`. \n"
     ]
    },
    {
     "name": "stdout",
     "output_type": "stream",
     "text": [
      "✅ Model saved successfully.\n",
      "\u001b[1m1600/1600\u001b[0m \u001b[32m━━━━━━━━━━━━━━━━━━━━\u001b[0m\u001b[37m\u001b[0m \u001b[1m17s\u001b[0m 10ms/step\n",
      "\n",
      "Model Performance:\n",
      "MAE: 0.0727\n",
      "RMSE: 0.1379\n",
      "R2 Score: -808202116816349440.0000\n"
     ]
    }
   ],
   "source": [
    "# Toilet Hygiene Forecasting with CNN + LSTM\n",
    "# ============================\n",
    "# STEP 1: DATA PREPROCESSING\n",
    "# ============================\n",
    "import pandas as pd\n",
    "import numpy as np\n",
    "from sklearn.preprocessing import MinMaxScaler\n",
    "from sklearn.metrics import mean_absolute_error, mean_squared_error, r2_score\n",
    "from tensorflow.keras.models import Sequential\n",
    "from tensorflow.keras.layers import Conv1D, LSTM, Dense, Dropout\n",
    "from tensorflow.keras.callbacks import EarlyStopping\n",
    "import matplotlib.pyplot as plt\n",
    "import streamlit as st\n",
    "\n",
    "# Load and clean dataset\n",
    "try:\n",
    "    df = pd.read_csv(\"merged_cleaned_dataset.csv\")\n",
    "    df = df.dropna()\n",
    "    \n",
    "    # Fix timestamp parsing (day/month/year format)\n",
    "    df['timestamp'] = pd.to_datetime(df['timestamp'], dayfirst=True)\n",
    "    df = df.sort_values('timestamp')\n",
    "    \n",
    "    # Verify data\n",
    "    print(f\"Dataset loaded with shape: {df.shape}\")\n",
    "    print(\"Sample data:\")\n",
    "    print(df.head())\n",
    "    \n",
    "except Exception as e:\n",
    "    raise ValueError(f\"Data loading failed: {str(e)}\")\n",
    "\n",
    "features = ['ammonia', 'humidity', 'temperature', 'iaq', 'co2']\n",
    "data = df[features].copy()\n",
    "\n",
    "# Normalize data\n",
    "scaler = MinMaxScaler()\n",
    "data_scaled = scaler.fit_transform(data)\n",
    "\n",
    "# Create time-series sequences\n",
    "def create_sequences(data, input_steps=30, output_steps=60):\n",
    "    X, y = [], []\n",
    "    for i in range(len(data) - input_steps - output_steps):\n",
    "        X.append(data[i:i+input_steps])\n",
    "        y.append(data[i+input_steps:i+input_steps+output_steps])\n",
    "    return np.array(X), np.array(y)\n",
    "\n",
    "X, y = create_sequences(data_scaled, 30, 60)\n",
    "\n",
    "# Verify sequences were created\n",
    "if len(X) == 0:\n",
    "    raise ValueError(\"No sequences created. Possible causes:\\n\"\n",
    "                   \"- Dataset too small\\n\"\n",
    "                   \"- Reduce input_steps/output_steps parameters\")\n",
    "\n",
    "split = int(0.8 * len(X))\n",
    "X_train, X_test = X[:split], X[split:]\n",
    "y_train, y_test = y[:split], y[split:]\n",
    "\n",
    "print(f\"Training sequences: {len(X_train)}\")\n",
    "print(f\"Test sequences: {len(X_test)}\")\n",
    "\n",
    "# ============================\n",
    "# STEP 2: MODELING (CNN + LSTM)\n",
    "# ============================\n",
    "model = Sequential([\n",
    "    Conv1D(filters=64, kernel_size=3, activation='relu', \n",
    "          input_shape=(30, 5)),\n",
    "    LSTM(64, return_sequences=False),\n",
    "    Dropout(0.2),\n",
    "    Dense(60 * 5)  # output: 60 time steps * 5 features\n",
    "])\n",
    "\n",
    "model.compile(optimizer='adam', loss='mse')\n",
    "\n",
    "history = model.fit(\n",
    "    X_train, \n",
    "    y_train.reshape((y_train.shape[0], -1)),\n",
    "    epochs=20,\n",
    "    batch_size=64,\n",
    "    validation_split=0.1,\n",
    "    callbacks=[EarlyStopping(patience=5, restore_best_weights=True)],\n",
    "    verbose=1\n",
    ")\n",
    "\n",
    "# Save model here\n",
    "model.save(\"cnn_lstm_forecast_1hour.h5\")\n",
    "print(\"✅ Model saved successfully.\")\n",
    "\n",
    "\n",
    "# ============================\n",
    "# STEP 3: PERFORMANCE METRICS\n",
    "# ============================\n",
    "y_pred = model.predict(X_test)\n",
    "y_pred_reshaped = y_pred.reshape((y_pred.shape[0], 60, 5))\n",
    "\n",
    "# Calculate metrics\n",
    "mae = mean_absolute_error(y_test.reshape(-1, 5), y_pred_reshaped.reshape(-1, 5))\n",
    "mse = mean_squared_error(y_test.reshape(-1, 5), y_pred_reshaped.reshape(-1, 5))\n",
    "rmse = np.sqrt(mse)\n",
    "r2 = r2_score(y_test.reshape(-1, 5), y_pred_reshaped.reshape(-1, 5))\n",
    "\n",
    "\n",
    "\n",
    "print(\"\\nModel Performance:\")\n",
    "print(f\"MAE: {mae:.4f}\")\n",
    "print(f\"RMSE: {rmse:.4f}\")\n",
    "print(f\"R2 Score: {r2:.4f}\")\n",
    "\n",
    "# ============================\n",
    "# STEP 4: STREAMLIT DASHBOARD\n",
    "# ============================\n",
    "def run_streamlit_app():\n",
    "    st.title(\"Toilet Hygiene Forecast (Next 1 Hour)\")\n",
    "    \n",
    "    # Get most recent 30 timesteps\n",
    "    input_window = data_scaled[-30:]\n",
    "    input_window = input_window.reshape(1, 30, 5)\n",
    "    \n",
    "    # Make prediction\n",
    "    prediction = model.predict(input_window).reshape(60, 5)\n",
    "    prediction_df = pd.DataFrame(scaler.inverse_transform(prediction), \n",
    "                               columns=features)\n",
    "    \n",
    "    # Display results\n",
    "    st.subheader(\"Predicted Values (Next 60 Minutes)\")\n",
    "    st.line_chart(prediction_df)\n",
    "    \n",
    "    st.dataframe(prediction_df)\n",
    "\n",
    "    # Rule-based status\n",
    "    latest_pred = prediction_df.iloc[-1]\n",
    "    if (latest_pred['ammonia'] > 5 and \n",
    "        latest_pred['humidity'] > 80 and \n",
    "        latest_pred['temperature'] > 26):\n",
    "        st.warning(\"🚨 Predicted Toilet Status: DIRTY\")\n",
    "    else:\n",
    "        st.success(\"✅ Predicted Toilet Status: CLEAN\")\n",
    "\n",
    "# Uncomment to run Streamlit\n",
    "# if __name__ == '__main__':\n",
    "#     run_streamlit_app()"
   ]
  },
  {
   "cell_type": "code",
   "execution_count": 14,
   "id": "f77dd7e2-f9e5-4b91-8b0a-2c8bf5c0769d",
   "metadata": {},
   "outputs": [
    {
     "name": "stdout",
     "output_type": "stream",
     "text": [
      "NaN in y_true: 0\n",
      "NaN in y_pred: 0\n"
     ]
    }
   ],
   "source": [
    "y_true = y_test.reshape(-1, 5)\n",
    "y_pred = y_pred_reshaped.reshape(-1, 5)\n",
    "\n",
    "# Periksa NaN\n",
    "print(\"NaN in y_true:\", np.isnan(y_true).sum())\n",
    "print(\"NaN in y_pred:\", np.isnan(y_pred).sum())\n",
    "\n",
    "# Buang NaN kalau perlu\n",
    "mask = ~np.isnan(y_true).any(axis=1) & ~np.isnan(y_pred).any(axis=1)\n",
    "y_true = y_true[mask]\n",
    "y_pred = y_pred[mask]\n",
    "\n"
   ]
  },
  {
   "cell_type": "code",
   "execution_count": 15,
   "id": "3cc5da87-a793-42a9-ad17-2a43c06ec212",
   "metadata": {},
   "outputs": [
    {
     "name": "stdout",
     "output_type": "stream",
     "text": [
      "MAE: 0.0727\n",
      "RMSE: 0.1379\n",
      "R2: -808202116816349440.0000\n"
     ]
    }
   ],
   "source": [
    "mae = mean_absolute_error(y_true, y_pred)\n",
    "rmse = np.sqrt(mean_squared_error(y_true, y_pred))\n",
    "r2 = r2_score(y_true, y_pred)\n",
    "\n",
    "print(f\"MAE: {mae:.4f}\")\n",
    "print(f\"RMSE: {rmse:.4f}\")\n",
    "print(f\"R2: {r2:.4f}\")\n"
   ]
  },
  {
   "cell_type": "code",
   "execution_count": 17,
   "id": "e38b6fa9-dfab-4ee5-962c-d1bdd8d3944b",
   "metadata": {},
   "outputs": [
    {
     "name": "stdout",
     "output_type": "stream",
     "text": [
      "MAE: 21.65\n",
      "RMSE: 51.86\n",
      "R2 Score: 0.3900\n"
     ]
    }
   ],
   "source": [
    "# Reshape\n",
    "y_true = y_test.reshape(-1, 5)\n",
    "y_pred = y_pred_reshaped.reshape(-1, 5)\n",
    "\n",
    "# Inverse transform\n",
    "y_true_inv = scaler.inverse_transform(y_true)\n",
    "y_pred_inv = scaler.inverse_transform(y_pred)\n",
    "\n",
    "# Metrics\n",
    "mae = mean_absolute_error(y_true_inv, y_pred_inv)\n",
    "rmse = np.sqrt(mean_squared_error(y_true_inv, y_pred_inv))\n",
    "r2 = r2_score(y_true_inv, y_pred_inv)\n",
    "\n",
    "print(f\"MAE: {mae:.2f}\")\n",
    "print(f\"RMSE: {rmse:.2f}\")\n",
    "print(f\"R2 Score: {r2:.4f}\")\n"
   ]
  },
  {
   "cell_type": "code",
   "execution_count": 11,
   "id": "6bee2096-8b2e-4214-890d-f5e4668c078f",
   "metadata": {},
   "outputs": [
    {
     "name": "stderr",
     "output_type": "stream",
     "text": [
      "WARNING:absl:You are saving your model as an HDF5 file via `model.save()` or `keras.saving.save_model(model)`. This file format is considered legacy. We recommend using instead the native Keras format, e.g. `model.save('my_model.keras')` or `keras.saving.save_model(model, 'my_model.keras')`. \n"
     ]
    },
    {
     "name": "stdout",
     "output_type": "stream",
     "text": [
      "✅ Model saved successfully as cnn_lstm_forecast_1hour.h5\n"
     ]
    }
   ],
   "source": [
    "# ============================\n",
    "# STEP: SAVE TRAINED MODEL\n",
    "# ============================\n",
    "# Save model ke dalam format .h5\n",
    "model.save(\"cnn_lstm_forecast_1hour.h5\")\n",
    "print(\"✅ Model saved successfully as cnn_lstm_forecast_1hour.h5\")\n"
   ]
  },
  {
   "cell_type": "code",
   "execution_count": 25,
   "id": "4ac5f803-98b7-405e-95e0-020956e2454b",
   "metadata": {},
   "outputs": [
    {
     "name": "stdout",
     "output_type": "stream",
     "text": [
      "\u001b[1m1600/1600\u001b[0m \u001b[32m━━━━━━━━━━━━━━━━━━━━\u001b[0m\u001b[37m\u001b[0m \u001b[1m20s\u001b[0m 12ms/step\n",
      "MAE: 21.65\n",
      "RMSE: 51.86\n",
      "R2 Score: 0.3900\n",
      "[[3071520       0       0]\n",
      " [      0       0       0]\n",
      " [      0       0       0]]\n",
      "                  precision    recall  f1-score   support\n",
      "\n",
      "Low Hygiene Risk       1.00      1.00      1.00   3071520\n",
      "\n",
      "        accuracy                           1.00   3071520\n",
      "       macro avg       1.00      1.00      1.00   3071520\n",
      "    weighted avg       1.00      1.00      1.00   3071520\n",
      "\n"
     ]
    }
   ],
   "source": [
    "import pandas as pd\n",
    "import numpy as np\n",
    "from sklearn.preprocessing import MinMaxScaler\n",
    "from sklearn.metrics import mean_absolute_error, mean_squared_error, r2_score, classification_report, confusion_matrix\n",
    "from tensorflow.keras.models import load_model\n",
    "\n",
    "# Load data & scaler\n",
    "df = pd.read_csv(\"merged_cleaned_dataset.csv\")\n",
    "df = df.dropna()\n",
    "df['timestamp'] = pd.to_datetime(df['timestamp'], dayfirst=True)\n",
    "df = df.sort_values('timestamp')\n",
    "features = ['ammonia', 'humidity', 'temperature', 'iaq', 'co2']\n",
    "data = df[features].copy()\n",
    "\n",
    "# Normalize\n",
    "scaler = MinMaxScaler()\n",
    "data_scaled = scaler.fit_transform(data)\n",
    "\n",
    "# Recreate sequences\n",
    "def create_sequences(data, input_steps=30, output_steps=60):\n",
    "    X, y = [], []\n",
    "    for i in range(len(data) - input_steps - output_steps):\n",
    "        X.append(data[i:i+input_steps])\n",
    "        y.append(data[i+input_steps:i+input_steps+output_steps])\n",
    "    return np.array(X), np.array(y)\n",
    "\n",
    "X, y = create_sequences(data_scaled, 30, 60)\n",
    "\n",
    "# Split\n",
    "split = int(0.8 * len(X))\n",
    "X_test = X[split:]\n",
    "y_test = y[split:]\n",
    "\n",
    "# Load trained model\n",
    "model = load_model(\"cnn_lstm_forecast_1hour.h5\", compile=False)\n",
    "\n",
    "# Predict\n",
    "y_pred = model.predict(X_test)\n",
    "y_pred_reshaped = y_pred.reshape((-1, 5))\n",
    "y_true = y_test.reshape((-1, 5))\n",
    "\n",
    "# Inverse transform\n",
    "y_true_inv = scaler.inverse_transform(y_true)\n",
    "y_pred_inv = scaler.inverse_transform(y_pred_reshaped)\n",
    "\n",
    "# Regression metrics\n",
    "mae = mean_absolute_error(y_true_inv, y_pred_inv)\n",
    "rmse = np.sqrt(mean_squared_error(y_true_inv, y_pred_inv))\n",
    "r2 = r2_score(y_true_inv, y_pred_inv)\n",
    "print(f\"MAE: {mae:.2f}\")\n",
    "print(f\"RMSE: {rmse:.2f}\")\n",
    "print(f\"R2 Score: {r2:.4f}\")\n",
    "\n",
    "#  classification hygiene level\n",
    "def classify(ammonia, humidity, temp):\n",
    "    if ammonia > 4 and humidity > 60 and temp > 32:\n",
    "        return \"High Hygiene Risk\"\n",
    "    elif ammonia > 2 and humidity > 50 and temp > 30:\n",
    "        return \"Medium Hygiene Risk\"\n",
    "    else:\n",
    "        return \"Low Hygiene Risk\"\n",
    "\n",
    "\n",
    "\n",
    "y_true_labels = [classify(row[0], row[1], row[2]) for row in y_true_inv]\n",
    "y_pred_labels = [classify(row[0], row[1], row[2]) for row in y_pred_inv]\n",
    "\n",
    "\n",
    "# Classification metrics\n",
    "print(confusion_matrix(y_true_labels, y_pred_labels, labels=[\"Low Hygiene Risk\", \"Medium Hygiene Risk\", \"High Hygiene Risk\"]))\n",
    "print(classification_report(y_true_labels, y_pred_labels))\n"
   ]
  },
  {
   "cell_type": "code",
   "execution_count": 27,
   "id": "56537687-3470-40a6-9ca0-0d971deda1a7",
   "metadata": {},
   "outputs": [
    {
     "name": "stdout",
     "output_type": "stream",
     "text": [
      "\u001b[1m1600/1600\u001b[0m \u001b[32m━━━━━━━━━━━━━━━━━━━━\u001b[0m\u001b[37m\u001b[0m \u001b[1m17s\u001b[0m 10ms/step\n",
      "MAE: 21.65\n",
      "RMSE: 51.86\n",
      "R2 Score: 0.3900\n",
      "\n",
      "Confusion Matrix:\n",
      "[[3071520       0       0]\n",
      " [      0       0       0]\n",
      " [      0       0       0]]\n",
      "\n",
      "Classification Report:\n"
     ]
    },
    {
     "name": "stderr",
     "output_type": "stream",
     "text": [
      "C:\\Users\\atinh\\AppData\\Local\\Programs\\Python\\Python311\\Lib\\site-packages\\sklearn\\metrics\\_classification.py:1565: UndefinedMetricWarning: Precision is ill-defined and being set to 0.0 in labels with no predicted samples. Use `zero_division` parameter to control this behavior.\n",
      "  _warn_prf(average, modifier, f\"{metric.capitalize()} is\", len(result))\n",
      "C:\\Users\\atinh\\AppData\\Local\\Programs\\Python\\Python311\\Lib\\site-packages\\sklearn\\metrics\\_classification.py:1565: UndefinedMetricWarning: Recall is ill-defined and being set to 0.0 in labels with no true samples. Use `zero_division` parameter to control this behavior.\n",
      "  _warn_prf(average, modifier, f\"{metric.capitalize()} is\", len(result))\n",
      "C:\\Users\\atinh\\AppData\\Local\\Programs\\Python\\Python311\\Lib\\site-packages\\sklearn\\metrics\\_classification.py:1565: UndefinedMetricWarning: F-score is ill-defined and being set to 0.0 in labels with no true nor predicted samples. Use `zero_division` parameter to control this behavior.\n",
      "  _warn_prf(average, modifier, f\"{metric.capitalize()} is\", len(result))\n",
      "C:\\Users\\atinh\\AppData\\Local\\Programs\\Python\\Python311\\Lib\\site-packages\\sklearn\\metrics\\_classification.py:1565: UndefinedMetricWarning: Precision is ill-defined and being set to 0.0 in labels with no predicted samples. Use `zero_division` parameter to control this behavior.\n",
      "  _warn_prf(average, modifier, f\"{metric.capitalize()} is\", len(result))\n",
      "C:\\Users\\atinh\\AppData\\Local\\Programs\\Python\\Python311\\Lib\\site-packages\\sklearn\\metrics\\_classification.py:1565: UndefinedMetricWarning: Recall is ill-defined and being set to 0.0 in labels with no true samples. Use `zero_division` parameter to control this behavior.\n",
      "  _warn_prf(average, modifier, f\"{metric.capitalize()} is\", len(result))\n",
      "C:\\Users\\atinh\\AppData\\Local\\Programs\\Python\\Python311\\Lib\\site-packages\\sklearn\\metrics\\_classification.py:1565: UndefinedMetricWarning: F-score is ill-defined and being set to 0.0 in labels with no true nor predicted samples. Use `zero_division` parameter to control this behavior.\n",
      "  _warn_prf(average, modifier, f\"{metric.capitalize()} is\", len(result))\n"
     ]
    },
    {
     "name": "stdout",
     "output_type": "stream",
     "text": [
      "                     precision    recall  f1-score   support\n",
      "\n",
      "   Low Hygiene Risk       1.00      1.00      1.00   3071520\n",
      "Medium Hygiene Risk       0.00      0.00      0.00         0\n",
      "  High Hygiene Risk       0.00      0.00      0.00         0\n",
      "\n",
      "           accuracy                           1.00   3071520\n",
      "          macro avg       0.33      0.33      0.33   3071520\n",
      "       weighted avg       1.00      1.00      1.00   3071520\n",
      "\n"
     ]
    },
    {
     "name": "stderr",
     "output_type": "stream",
     "text": [
      "C:\\Users\\atinh\\AppData\\Local\\Programs\\Python\\Python311\\Lib\\site-packages\\sklearn\\metrics\\_classification.py:1565: UndefinedMetricWarning: Precision is ill-defined and being set to 0.0 in labels with no predicted samples. Use `zero_division` parameter to control this behavior.\n",
      "  _warn_prf(average, modifier, f\"{metric.capitalize()} is\", len(result))\n",
      "C:\\Users\\atinh\\AppData\\Local\\Programs\\Python\\Python311\\Lib\\site-packages\\sklearn\\metrics\\_classification.py:1565: UndefinedMetricWarning: Recall is ill-defined and being set to 0.0 in labels with no true samples. Use `zero_division` parameter to control this behavior.\n",
      "  _warn_prf(average, modifier, f\"{metric.capitalize()} is\", len(result))\n",
      "C:\\Users\\atinh\\AppData\\Local\\Programs\\Python\\Python311\\Lib\\site-packages\\sklearn\\metrics\\_classification.py:1565: UndefinedMetricWarning: F-score is ill-defined and being set to 0.0 in labels with no true nor predicted samples. Use `zero_division` parameter to control this behavior.\n",
      "  _warn_prf(average, modifier, f\"{metric.capitalize()} is\", len(result))\n"
     ]
    }
   ],
   "source": [
    "import pandas as pd\n",
    "import numpy as np\n",
    "from sklearn.preprocessing import MinMaxScaler\n",
    "from sklearn.metrics import mean_absolute_error, mean_squared_error, r2_score, classification_report, confusion_matrix, accuracy_score\n",
    "from tensorflow.keras.models import load_model\n",
    "\n",
    "# Load dataset\n",
    "df = pd.read_csv(\"merged_cleaned_dataset.csv\")\n",
    "df = df.dropna()\n",
    "df['timestamp'] = pd.to_datetime(df['timestamp'], dayfirst=True)\n",
    "df = df.sort_values('timestamp')\n",
    "features = ['ammonia', 'humidity', 'temperature', 'iaq', 'co2']\n",
    "data = df[features].copy()\n",
    "\n",
    "# Normalize\n",
    "scaler = MinMaxScaler()\n",
    "data_scaled = scaler.fit_transform(data)\n",
    "\n",
    "# Create sequences\n",
    "def create_sequences(data, input_steps=30, output_steps=60):\n",
    "    X, y = [], []\n",
    "    for i in range(len(data) - input_steps - output_steps):\n",
    "        X.append(data[i:i+input_steps])\n",
    "        y.append(data[i+input_steps:i+input_steps+output_steps])\n",
    "    return np.array(X), np.array(y)\n",
    "\n",
    "X, y = create_sequences(data_scaled, 30, 60)\n",
    "split = int(0.8 * len(X))\n",
    "X_test = X[split:]\n",
    "y_test = y[split:]\n",
    "\n",
    "# Load model\n",
    "model = load_model(\"cnn_lstm_forecast_1hour.h5\", compile=False)\n",
    "\n",
    "# Predict\n",
    "y_pred = model.predict(X_test)\n",
    "y_pred_reshaped = y_pred.reshape((-1, 5))\n",
    "y_true = y_test.reshape((-1, 5))\n",
    "\n",
    "# Inverse transform\n",
    "y_true_inv = scaler.inverse_transform(y_true)\n",
    "y_pred_inv = scaler.inverse_transform(y_pred_reshaped)\n",
    "\n",
    "# Regression metrics\n",
    "mae = mean_absolute_error(y_true_inv, y_pred_inv)\n",
    "rmse = np.sqrt(mean_squared_error(y_true_inv, y_pred_inv))\n",
    "r2 = r2_score(y_true_inv, y_pred_inv)\n",
    "print(f\"MAE: {mae:.2f}\")\n",
    "print(f\"RMSE: {rmse:.2f}\")\n",
    "print(f\"R2 Score: {r2:.4f}\")\n",
    "\n",
    "# Hygiene classification logic (3 classes)\n",
    "def classify(ammonia, humidity, temp):\n",
    "    if ammonia > 3 and humidity > 75 and temp > 31:\n",
    "        return \"High Hygiene Risk\"\n",
    "    elif ammonia > 1.5 and humidity > 65 and temp > 29:\n",
    "        return \"Medium Hygiene Risk\"\n",
    "    else:\n",
    "        return \"Low Hygiene Risk\"\n",
    "\n",
    "        \n",
    "from collections import Counter\n",
    "print(\"True label count:\", Counter(y_true_labels))\n",
    "print(\"Predicted label count:\", Counter(y_pred_labels))\n",
    "\n",
    "y_true_labels = [classify(row[0], row[1], row[2]) for row in y_true_inv]\n",
    "y_pred_labels = [classify(row[0], row[1], row[2]) for row in y_pred_inv]\n",
    "\n",
    "# Classification metrics\n",
    "labels_order = [\"Low Hygiene Risk\", \"Medium Hygiene Risk\", \"High Hygiene Risk\"]\n",
    "print(\"\\nConfusion Matrix:\")\n",
    "print(confusion_matrix(y_true_labels, y_pred_labels, labels=labels_order))\n",
    "print(\"\\nClassification Report:\")\n",
    "print(classification_report(y_true_labels, y_pred_labels, labels=labels_order))\n"
   ]
  },
  {
   "cell_type": "code",
   "execution_count": 29,
   "id": "e1862770-13ff-4630-8e64-ad0687de797e",
   "metadata": {},
   "outputs": [
    {
     "name": "stdout",
     "output_type": "stream",
     "text": [
      "\u001b[1m1600/1600\u001b[0m \u001b[32m━━━━━━━━━━━━━━━━━━━━\u001b[0m\u001b[37m\u001b[0m \u001b[1m19s\u001b[0m 11ms/step\n",
      "MAE: 21.65\n",
      "RMSE: 51.86\n",
      "R2 Score: 0.3900\n",
      "\n",
      "Label Distribution (True): Counter({'Low Hygiene Risk': 3069240, 'Medium Hygiene Risk': 2280})\n",
      "Label Distribution (Pred): Counter({'Low Hygiene Risk': 3071520})\n",
      "\n",
      "Confusion Matrix:\n",
      "[[3069240       0       0]\n",
      " [   2280       0       0]\n",
      " [      0       0       0]]\n",
      "\n",
      "Classification Report:\n"
     ]
    },
    {
     "name": "stderr",
     "output_type": "stream",
     "text": [
      "C:\\Users\\atinh\\AppData\\Local\\Programs\\Python\\Python311\\Lib\\site-packages\\sklearn\\metrics\\_classification.py:1565: UndefinedMetricWarning: Precision is ill-defined and being set to 0.0 in labels with no predicted samples. Use `zero_division` parameter to control this behavior.\n",
      "  _warn_prf(average, modifier, f\"{metric.capitalize()} is\", len(result))\n",
      "C:\\Users\\atinh\\AppData\\Local\\Programs\\Python\\Python311\\Lib\\site-packages\\sklearn\\metrics\\_classification.py:1565: UndefinedMetricWarning: Recall is ill-defined and being set to 0.0 in labels with no true samples. Use `zero_division` parameter to control this behavior.\n",
      "  _warn_prf(average, modifier, f\"{metric.capitalize()} is\", len(result))\n",
      "C:\\Users\\atinh\\AppData\\Local\\Programs\\Python\\Python311\\Lib\\site-packages\\sklearn\\metrics\\_classification.py:1565: UndefinedMetricWarning: F-score is ill-defined and being set to 0.0 in labels with no true nor predicted samples. Use `zero_division` parameter to control this behavior.\n",
      "  _warn_prf(average, modifier, f\"{metric.capitalize()} is\", len(result))\n",
      "C:\\Users\\atinh\\AppData\\Local\\Programs\\Python\\Python311\\Lib\\site-packages\\sklearn\\metrics\\_classification.py:1565: UndefinedMetricWarning: Precision is ill-defined and being set to 0.0 in labels with no predicted samples. Use `zero_division` parameter to control this behavior.\n",
      "  _warn_prf(average, modifier, f\"{metric.capitalize()} is\", len(result))\n",
      "C:\\Users\\atinh\\AppData\\Local\\Programs\\Python\\Python311\\Lib\\site-packages\\sklearn\\metrics\\_classification.py:1565: UndefinedMetricWarning: Recall is ill-defined and being set to 0.0 in labels with no true samples. Use `zero_division` parameter to control this behavior.\n",
      "  _warn_prf(average, modifier, f\"{metric.capitalize()} is\", len(result))\n",
      "C:\\Users\\atinh\\AppData\\Local\\Programs\\Python\\Python311\\Lib\\site-packages\\sklearn\\metrics\\_classification.py:1565: UndefinedMetricWarning: F-score is ill-defined and being set to 0.0 in labels with no true nor predicted samples. Use `zero_division` parameter to control this behavior.\n",
      "  _warn_prf(average, modifier, f\"{metric.capitalize()} is\", len(result))\n"
     ]
    },
    {
     "name": "stdout",
     "output_type": "stream",
     "text": [
      "                     precision    recall  f1-score   support\n",
      "\n",
      "   Low Hygiene Risk       1.00      1.00      1.00   3069240\n",
      "Medium Hygiene Risk       0.00      0.00      0.00      2280\n",
      "  High Hygiene Risk       0.00      0.00      0.00         0\n",
      "\n",
      "           accuracy                           1.00   3071520\n",
      "          macro avg       0.33      0.33      0.33   3071520\n",
      "       weighted avg       1.00      1.00      1.00   3071520\n",
      "\n"
     ]
    },
    {
     "name": "stderr",
     "output_type": "stream",
     "text": [
      "C:\\Users\\atinh\\AppData\\Local\\Programs\\Python\\Python311\\Lib\\site-packages\\sklearn\\metrics\\_classification.py:1565: UndefinedMetricWarning: Precision is ill-defined and being set to 0.0 in labels with no predicted samples. Use `zero_division` parameter to control this behavior.\n",
      "  _warn_prf(average, modifier, f\"{metric.capitalize()} is\", len(result))\n",
      "C:\\Users\\atinh\\AppData\\Local\\Programs\\Python\\Python311\\Lib\\site-packages\\sklearn\\metrics\\_classification.py:1565: UndefinedMetricWarning: Recall is ill-defined and being set to 0.0 in labels with no true samples. Use `zero_division` parameter to control this behavior.\n",
      "  _warn_prf(average, modifier, f\"{metric.capitalize()} is\", len(result))\n",
      "C:\\Users\\atinh\\AppData\\Local\\Programs\\Python\\Python311\\Lib\\site-packages\\sklearn\\metrics\\_classification.py:1565: UndefinedMetricWarning: F-score is ill-defined and being set to 0.0 in labels with no true nor predicted samples. Use `zero_division` parameter to control this behavior.\n",
      "  _warn_prf(average, modifier, f\"{metric.capitalize()} is\", len(result))\n"
     ]
    }
   ],
   "source": [
    "import pandas as pd\n",
    "import numpy as np\n",
    "from sklearn.preprocessing import MinMaxScaler\n",
    "from sklearn.metrics import mean_absolute_error, mean_squared_error, r2_score, classification_report, confusion_matrix, accuracy_score\n",
    "from collections import Counter\n",
    "from tensorflow.keras.models import load_model\n",
    "\n",
    "# Load dataset\n",
    "df = pd.read_csv(\"merged_cleaned_dataset.csv\")\n",
    "df = df.dropna()\n",
    "df['timestamp'] = pd.to_datetime(df['timestamp'], dayfirst=True)\n",
    "df = df.sort_values('timestamp')\n",
    "features = ['ammonia', 'humidity', 'temperature', 'iaq', 'co2']\n",
    "data = df[features].copy()\n",
    "\n",
    "# Normalize\n",
    "scaler = MinMaxScaler()\n",
    "data_scaled = scaler.fit_transform(data)\n",
    "\n",
    "# Create sequences\n",
    "def create_sequences(data, input_steps=30, output_steps=60):\n",
    "    X, y = [], []\n",
    "    for i in range(len(data) - input_steps - output_steps):\n",
    "        X.append(data[i:i+input_steps])\n",
    "        y.append(data[i+input_steps:i+input_steps+output_steps])\n",
    "    return np.array(X), np.array(y)\n",
    "\n",
    "X, y = create_sequences(data_scaled, 30, 60)\n",
    "split = int(0.8 * len(X))\n",
    "X_test = X[split:]\n",
    "y_test = y[split:]\n",
    "\n",
    "# Load model\n",
    "model = load_model(\"cnn_lstm_forecast_1hour.h5\", compile=False)\n",
    "\n",
    "# Predict\n",
    "y_pred = model.predict(X_test)\n",
    "y_pred_reshaped = y_pred.reshape((-1, 5))\n",
    "y_true = y_test.reshape((-1, 5))\n",
    "\n",
    "# Inverse transform\n",
    "y_true_inv = scaler.inverse_transform(y_true)\n",
    "y_pred_inv = scaler.inverse_transform(y_pred_reshaped)\n",
    "\n",
    "# Regression metrics\n",
    "mae = mean_absolute_error(y_true_inv, y_pred_inv)\n",
    "rmse = np.sqrt(mean_squared_error(y_true_inv, y_pred_inv))\n",
    "r2 = r2_score(y_true_inv, y_pred_inv)\n",
    "print(f\"MAE: {mae:.2f}\")\n",
    "print(f\"RMSE: {rmse:.2f}\")\n",
    "print(f\"R2 Score: {r2:.4f}\")\n",
    "\n",
    "# Updated hygiene classification logic (3 classes)\n",
    "def classify(ammonia, humidity, temp):\n",
    "    if ammonia > 2 and humidity > 50 and temp > 27:\n",
    "        return \"High Hygiene Risk\"\n",
    "    elif ammonia > 1 and humidity > 50 and temp > 25:\n",
    "        return \"Medium Hygiene Risk\"\n",
    "    else:\n",
    "        return \"Low Hygiene Risk\"\n",
    "\n",
    "y_true_labels = [classify(row[0], row[1], row[2]) for row in y_true_inv]\n",
    "y_pred_labels = [classify(row[0], row[1], row[2]) for row in y_pred_inv]\n",
    "\n",
    "# Label counts for debugging\n",
    "print(\"\\nLabel Distribution (True):\", Counter(y_true_labels))\n",
    "print(\"Label Distribution (Pred):\", Counter(y_pred_labels))\n",
    "\n",
    "# Classification metrics\n",
    "labels_order = [\"Low Hygiene Risk\", \"Medium Hygiene Risk\", \"High Hygiene Risk\"]\n",
    "print(\"\\nConfusion Matrix:\")\n",
    "print(confusion_matrix(y_true_labels, y_pred_labels, labels=labels_order))\n",
    "print(\"\\nClassification Report:\")\n",
    "print(classification_report(y_true_labels, y_pred_labels, labels=labels_order))\n"
   ]
  },
  {
   "cell_type": "code",
   "execution_count": 32,
   "id": "f6f8992d-10ac-47ab-85ca-a93f7780b385",
   "metadata": {},
   "outputs": [
    {
     "name": "stdout",
     "output_type": "stream",
     "text": [
      "\u001b[1m1600/1600\u001b[0m \u001b[32m━━━━━━━━━━━━━━━━━━━━\u001b[0m\u001b[37m\u001b[0m \u001b[1m16s\u001b[0m 9ms/step \n",
      "MAE: 21.65\n",
      "RMSE: 51.86\n",
      "R2 Score: 0.3900\n",
      "\n",
      "Label Distribution (True): Counter({'Low Hygiene Risk': 3019080, 'Medium Hygiene Risk': 52440})\n",
      "Label Distribution (Pred): Counter({'Low Hygiene Risk': 3069306, 'Medium Hygiene Risk': 2214})\n",
      "\n",
      "Confusion Matrix:\n",
      "[[3018507     573       0]\n",
      " [  50799    1641       0]\n",
      " [      0       0       0]]\n",
      "\n",
      "Classification Report:\n"
     ]
    },
    {
     "name": "stderr",
     "output_type": "stream",
     "text": [
      "C:\\Users\\atinh\\AppData\\Local\\Programs\\Python\\Python311\\Lib\\site-packages\\sklearn\\metrics\\_classification.py:1565: UndefinedMetricWarning: Precision is ill-defined and being set to 0.0 in labels with no predicted samples. Use `zero_division` parameter to control this behavior.\n",
      "  _warn_prf(average, modifier, f\"{metric.capitalize()} is\", len(result))\n",
      "C:\\Users\\atinh\\AppData\\Local\\Programs\\Python\\Python311\\Lib\\site-packages\\sklearn\\metrics\\_classification.py:1565: UndefinedMetricWarning: Recall is ill-defined and being set to 0.0 in labels with no true samples. Use `zero_division` parameter to control this behavior.\n",
      "  _warn_prf(average, modifier, f\"{metric.capitalize()} is\", len(result))\n",
      "C:\\Users\\atinh\\AppData\\Local\\Programs\\Python\\Python311\\Lib\\site-packages\\sklearn\\metrics\\_classification.py:1565: UndefinedMetricWarning: F-score is ill-defined and being set to 0.0 in labels with no true nor predicted samples. Use `zero_division` parameter to control this behavior.\n",
      "  _warn_prf(average, modifier, f\"{metric.capitalize()} is\", len(result))\n",
      "C:\\Users\\atinh\\AppData\\Local\\Programs\\Python\\Python311\\Lib\\site-packages\\sklearn\\metrics\\_classification.py:1565: UndefinedMetricWarning: Precision is ill-defined and being set to 0.0 in labels with no predicted samples. Use `zero_division` parameter to control this behavior.\n",
      "  _warn_prf(average, modifier, f\"{metric.capitalize()} is\", len(result))\n",
      "C:\\Users\\atinh\\AppData\\Local\\Programs\\Python\\Python311\\Lib\\site-packages\\sklearn\\metrics\\_classification.py:1565: UndefinedMetricWarning: Recall is ill-defined and being set to 0.0 in labels with no true samples. Use `zero_division` parameter to control this behavior.\n",
      "  _warn_prf(average, modifier, f\"{metric.capitalize()} is\", len(result))\n",
      "C:\\Users\\atinh\\AppData\\Local\\Programs\\Python\\Python311\\Lib\\site-packages\\sklearn\\metrics\\_classification.py:1565: UndefinedMetricWarning: F-score is ill-defined and being set to 0.0 in labels with no true nor predicted samples. Use `zero_division` parameter to control this behavior.\n",
      "  _warn_prf(average, modifier, f\"{metric.capitalize()} is\", len(result))\n"
     ]
    },
    {
     "name": "stdout",
     "output_type": "stream",
     "text": [
      "                     precision    recall  f1-score   support\n",
      "\n",
      "   Low Hygiene Risk       0.98      1.00      0.99   3019080\n",
      "Medium Hygiene Risk       0.74      0.03      0.06     52440\n",
      "  High Hygiene Risk       0.00      0.00      0.00         0\n",
      "\n",
      "           accuracy                           0.98   3071520\n",
      "          macro avg       0.57      0.34      0.35   3071520\n",
      "       weighted avg       0.98      0.98      0.98   3071520\n",
      "\n"
     ]
    },
    {
     "name": "stderr",
     "output_type": "stream",
     "text": [
      "C:\\Users\\atinh\\AppData\\Local\\Programs\\Python\\Python311\\Lib\\site-packages\\sklearn\\metrics\\_classification.py:1565: UndefinedMetricWarning: Precision is ill-defined and being set to 0.0 in labels with no predicted samples. Use `zero_division` parameter to control this behavior.\n",
      "  _warn_prf(average, modifier, f\"{metric.capitalize()} is\", len(result))\n",
      "C:\\Users\\atinh\\AppData\\Local\\Programs\\Python\\Python311\\Lib\\site-packages\\sklearn\\metrics\\_classification.py:1565: UndefinedMetricWarning: Recall is ill-defined and being set to 0.0 in labels with no true samples. Use `zero_division` parameter to control this behavior.\n",
      "  _warn_prf(average, modifier, f\"{metric.capitalize()} is\", len(result))\n",
      "C:\\Users\\atinh\\AppData\\Local\\Programs\\Python\\Python311\\Lib\\site-packages\\sklearn\\metrics\\_classification.py:1565: UndefinedMetricWarning: F-score is ill-defined and being set to 0.0 in labels with no true nor predicted samples. Use `zero_division` parameter to control this behavior.\n",
      "  _warn_prf(average, modifier, f\"{metric.capitalize()} is\", len(result))\n"
     ]
    }
   ],
   "source": [
    "import pandas as pd\n",
    "import numpy as np\n",
    "from sklearn.preprocessing import MinMaxScaler\n",
    "from sklearn.metrics import mean_absolute_error, mean_squared_error, r2_score, classification_report, confusion_matrix, accuracy_score\n",
    "from collections import Counter\n",
    "from tensorflow.keras.models import load_model\n",
    "\n",
    "# Load dataset\n",
    "df = pd.read_csv(\"merged_cleaned_dataset.csv\")\n",
    "df = df.dropna()\n",
    "df['timestamp'] = pd.to_datetime(df['timestamp'], dayfirst=True)\n",
    "df = df.sort_values('timestamp')\n",
    "features = ['ammonia', 'humidity', 'temperature', 'iaq', 'co2']\n",
    "data = df[features].copy()\n",
    "\n",
    "# Normalize\n",
    "scaler = MinMaxScaler()\n",
    "data_scaled = scaler.fit_transform(data)\n",
    "\n",
    "# Create sequences\n",
    "def create_sequences(data, input_steps=30, output_steps=60):\n",
    "    X, y = [], []\n",
    "    for i in range(len(data) - input_steps - output_steps):\n",
    "        X.append(data[i:i+input_steps])\n",
    "        y.append(data[i+input_steps:i+input_steps+output_steps])\n",
    "    return np.array(X), np.array(y)\n",
    "\n",
    "X, y = create_sequences(data_scaled, 30, 60)\n",
    "split = int(0.8 * len(X))\n",
    "X_test = X[split:]\n",
    "y_test = y[split:]\n",
    "\n",
    "# Load model\n",
    "model = load_model(\"cnn_lstm_forecast_1hour.h5\", compile=False)\n",
    "\n",
    "# Predict\n",
    "y_pred = model.predict(X_test)\n",
    "y_pred_reshaped = y_pred.reshape((-1, 5))\n",
    "y_true = y_test.reshape((-1, 5))\n",
    "\n",
    "# Inverse transform\n",
    "y_true_inv = scaler.inverse_transform(y_true)\n",
    "y_pred_inv = scaler.inverse_transform(y_pred_reshaped)\n",
    "\n",
    "# Regression metrics\n",
    "mae = mean_absolute_error(y_true_inv, y_pred_inv)\n",
    "rmse = np.sqrt(mean_squared_error(y_true_inv, y_pred_inv))\n",
    "r2 = r2_score(y_true_inv, y_pred_inv)\n",
    "print(f\"MAE: {mae:.2f}\")\n",
    "print(f\"RMSE: {rmse:.2f}\")\n",
    "print(f\"R2 Score: {r2:.4f}\")\n",
    "\n",
    "# Updated hygiene classification logic (3 classes)\n",
    "def classify_ammonia_only(ammonia):\n",
    "    if ammonia > 2:\n",
    "        return \"High Hygiene Risk\"\n",
    "    elif ammonia > 1:\n",
    "        return \"Medium Hygiene Risk\"\n",
    "    else:\n",
    "        return \"Low Hygiene Risk\"\n",
    "\n",
    "y_true_labels = [classify_ammonia_only(row[0]) for row in y_true_inv]\n",
    "y_pred_labels = [classify_ammonia_only(row[0]) for row in y_pred_inv]\n",
    "\n",
    "# Label counts for debugging\n",
    "print(\"\\nLabel Distribution (True):\", Counter(y_true_labels))\n",
    "print(\"Label Distribution (Pred):\", Counter(y_pred_labels))\n",
    "\n",
    "# Classification metrics\n",
    "labels_order = [\"Low Hygiene Risk\", \"Medium Hygiene Risk\", \"High Hygiene Risk\"]\n",
    "print(\"\\nConfusion Matrix:\")\n",
    "print(confusion_matrix(y_true_labels, y_pred_labels, labels=labels_order))\n",
    "print(\"\\nClassification Report:\")\n",
    "print(classification_report(y_true_labels, y_pred_labels, labels=labels_order))\n"
   ]
  },
  {
   "cell_type": "code",
   "execution_count": 2,
   "id": "48336fc7-c933-4430-8cda-f153441094b5",
   "metadata": {},
   "outputs": [
    {
     "data": {
      "image/png": "[encoded data removed]",
      "text/plain": [
       "<Figure size 600x600 with 1 Axes>"
      ]
     },
     "metadata": {},
     "output_type": "display_data"
    }
   ],
   "source": [
    "import matplotlib.pyplot as plt\n",
    "\n",
    "# Values based on your model split\n",
    "train_count = 204765\n",
    "test_count = 51192\n",
    "total = train_count + test_count\n",
    "\n",
    "# Percentages\n",
    "train_pct = round(train_count / total * 100, 2)\n",
    "test_pct = round(test_count / total * 100, 2)\n",
    "\n",
    "# Pie chart\n",
    "labels = [f'Training ({train_pct}%)', f'Testing ({test_pct}%)']\n",
    "sizes = [train_count, test_count]\n",
    "colors = ['#4CAF50', '#FF9800']\n",
    "explode = (0.05, 0.05)\n",
    "\n",
    "plt.figure(figsize=(6, 6))\n",
    "plt.pie(sizes, labels=labels, colors=colors, autopct='%1.1f%%',\n",
    "        startangle=90, explode=explode, shadow=True)\n",
    "plt.title('Train-Test Data Split')\n",
    "plt.axis('equal')  # Equal aspect ratio ensures pie is a circle.\n",
    "plt.tight_layout()\n",
    "plt.savefig(\"data_split_piechart.png\")\n",
    "plt.show()\n",
    "\n"
   ]
  },
  {
   "cell_type": "code",
   "execution_count": 1,
   "id": "3251f5e9-6399-4ac6-baf4-9b739ef00f05",
   "metadata": {},
   "outputs": [
    {
     "name": "stdout",
     "output_type": "stream",
     "text": [
      "\u001b[1m1/1\u001b[0m \u001b[32m━━━━━━━━━━━━━━━━━━━━\u001b[0m\u001b[37m\u001b[0m \u001b[1m1s\u001b[0m 571ms/step\n"
     ]
    },
    {
     "data": {
      "application/vnd.plotly.v1+json": {
       "config": {
        "plotlyServerURL": "https://plot.ly"
       },
       "data": [
        {
         "mode": "lines",
         "name": "ammonia",
         "type": "scatter",
         "x": [
          "2025-07-02T04:33:59.698222000",
          "2025-07-02T04:34:59.698222000",
          "2025-07-02T04:35:59.698222000",
          "2025-07-02T04:36:59.698222000",
          "2025-07-02T04:37:59.698222000",
          "2025-07-02T04:38:59.698222000",
          "2025-07-02T04:39:59.698222000",
          "2025-07-02T04:40:59.698222000",
          "2025-07-02T04:41:59.698222000",
          "2025-07-02T04:42:59.698222000",
          "2025-07-02T04:43:59.698222000",
          "2025-07-02T04:44:59.698222000",
          "2025-07-02T04:45:59.698222000",
          "2025-07-02T04:46:59.698222000",
          "2025-07-02T04:47:59.698222000",
          "2025-07-02T04:48:59.698222000",
          "2025-07-02T04:49:59.698222000",
          "2025-07-02T04:50:59.698222000",
          "2025-07-02T04:51:59.698222000",
          "2025-07-02T04:52:59.698222000",
          "2025-07-02T04:53:59.698222000",
          "2025-07-02T04:54:59.698222000",
          "2025-07-02T04:55:59.698222000",
          "2025-07-02T04:56:59.698222000",
          "2025-07-02T04:57:59.698222000",
          "2025-07-02T04:58:59.698222000",
          "2025-07-02T04:59:59.698222000",
          "2025-07-02T05:00:59.698222000",
          "2025-07-02T05:01:59.698222000",
          "2025-07-02T05:02:59.698222000",
          "2025-07-02T05:03:59.698222000",
          "2025-07-02T05:04:59.698222000",
          "2025-07-02T05:05:59.698222000",
          "2025-07-02T05:06:59.698222000",
          "2025-07-02T05:07:59.698222000",
          "2025-07-02T05:08:59.698222000",
          "2025-07-02T05:09:59.698222000",
          "2025-07-02T05:10:59.698222000",
          "2025-07-02T05:11:59.698222000",
          "2025-07-02T05:12:59.698222000",
          "2025-07-02T05:13:59.698222000",
          "2025-07-02T05:14:59.698222000",
          "2025-07-02T05:15:59.698222000",
          "2025-07-02T05:16:59.698222000",
          "2025-07-02T05:17:59.698222000",
          "2025-07-02T05:18:59.698222000",
          "2025-07-02T05:19:59.698222000",
          "2025-07-02T05:20:59.698222000",
          "2025-07-02T05:21:59.698222000",
          "2025-07-02T05:22:59.698222000",
          "2025-07-02T05:23:59.698222000",
          "2025-07-02T05:24:59.698222000",
          "2025-07-02T05:25:59.698222000",
          "2025-07-02T05:26:59.698222000",
          "2025-07-02T05:27:59.698222000",
          "2025-07-02T05:28:59.698222000",
          "2025-07-02T05:29:59.698222000",
          "2025-07-02T05:30:59.698222000",
          "2025-07-02T05:31:59.698222000",
          "2025-07-02T05:32:59.698222000"
         ],
         "y": {
          "bdata": "63HsPrPR7j7KQO4+6qPuPgBI7j4D1u4+637uPoKz7j7DnO4+o4nuPqaI7j54ou4+zo7uPjBx7j69ZO4+Rp7uPg1P7j5Fje4+WITuPm297j6tPu4+2kXuPr6C7j7opu4+eKHuPqZl7j4mcu4+ZoLuPg6U7j7ur+4+rpvuPjt/7j5bHe4+WiPuPtNW7j5+U+4+a2/uPlZZ7j5Tm+4+LrLuPlaN7j6lbu4+5bnuPtKZ7j6bS+4+o/3tPnA57j5KL+4+ApvuPqNp7j5bd+4+zVbuPut67j5Dju4+da/uPhuA7j6TTO4+pgruPm1B7j6aRu4+",
          "dtype": "f4"
         }
        },
        {
         "mode": "lines",
         "name": "humidity",
         "type": "scatter",
         "x": [
          "2025-07-02T04:33:59.698222000",
          "2025-07-02T04:34:59.698222000",
          "2025-07-02T04:35:59.698222000",
          "2025-07-02T04:36:59.698222000",
          "2025-07-02T04:37:59.698222000",
          "2025-07-02T04:38:59.698222000",
          "2025-07-02T04:39:59.698222000",
          "2025-07-02T04:40:59.698222000",
          "2025-07-02T04:41:59.698222000",
          "2025-07-02T04:42:59.698222000",
          "2025-07-02T04:43:59.698222000",
          "2025-07-02T04:44:59.698222000",
          "2025-07-02T04:45:59.698222000",
          "2025-07-02T04:46:59.698222000",
          "2025-07-02T04:47:59.698222000",
          "2025-07-02T04:48:59.698222000",
          "2025-07-02T04:49:59.698222000",
          "2025-07-02T04:50:59.698222000",
          "2025-07-02T04:51:59.698222000",
          "2025-07-02T04:52:59.698222000",
          "2025-07-02T04:53:59.698222000",
          "2025-07-02T04:54:59.698222000",
          "2025-07-02T04:55:59.698222000",
          "2025-07-02T04:56:59.698222000",
          "2025-07-02T04:57:59.698222000",
          "2025-07-02T04:58:59.698222000",
          "2025-07-02T04:59:59.698222000",
          "2025-07-02T05:00:59.698222000",
          "2025-07-02T05:01:59.698222000",
          "2025-07-02T05:02:59.698222000",
          "2025-07-02T05:03:59.698222000",
          "2025-07-02T05:04:59.698222000",
          "2025-07-02T05:05:59.698222000",
          "2025-07-02T05:06:59.698222000",
          "2025-07-02T05:07:59.698222000",
          "2025-07-02T05:08:59.698222000",
          "2025-07-02T05:09:59.698222000",
          "2025-07-02T05:10:59.698222000",
          "2025-07-02T05:11:59.698222000",
          "2025-07-02T05:12:59.698222000",
          "2025-07-02T05:13:59.698222000",
          "2025-07-02T05:14:59.698222000",
          "2025-07-02T05:15:59.698222000",
          "2025-07-02T05:16:59.698222000",
          "2025-07-02T05:17:59.698222000",
          "2025-07-02T05:18:59.698222000",
          "2025-07-02T05:19:59.698222000",
          "2025-07-02T05:20:59.698222000",
          "2025-07-02T05:21:59.698222000",
          "2025-07-02T05:22:59.698222000",
          "2025-07-02T05:23:59.698222000",
          "2025-07-02T05:24:59.698222000",
          "2025-07-02T05:25:59.698222000",
          "2025-07-02T05:26:59.698222000",
          "2025-07-02T05:27:59.698222000",
          "2025-07-02T05:28:59.698222000",
          "2025-07-02T05:29:59.698222000",
          "2025-07-02T05:30:59.698222000",
          "2025-07-02T05:31:59.698222000",
          "2025-07-02T05:32:59.698222000"
         ],
         "y": {
          "bdata": "BLk3QnstNUJ0vDVCTzw1QrqiNUJnODVCMps1Qq1GNULchTVCpXA1QoRYNULqSTVCujY1QkQwNUK2GzVCHBs1Qt1FNUI4LTVCbx81QmIINUKpUzVCTEY1QusVNUI/HDVCjyk1QnQiNUKuBDVCtgE1QtD1NEKL+zRClww1QlUXNUKfLTVCXAE1QtMINUL66jRC1/U0QiwWNUIf6jRCONU0QncYNUJ5ADVCHuE0QkDYNEL/8zRCpCA1QlL8NEK1/zRC8700Qlv3NEJv1TRCFhM1QhDWNEKZ4jRCQQA1QjgSNUJB+TRCJPE0QpLtNEJIITVC",
          "dtype": "f4"
         }
        },
        {
         "mode": "lines",
         "name": "temperature",
         "type": "scatter",
         "x": [
          "2025-07-02T04:33:59.698222000",
          "2025-07-02T04:34:59.698222000",
          "2025-07-02T04:35:59.698222000",
          "2025-07-02T04:36:59.698222000",
          "2025-07-02T04:37:59.698222000",
          "2025-07-02T04:38:59.698222000",
          "2025-07-02T04:39:59.698222000",
          "2025-07-02T04:40:59.698222000",
          "2025-07-02T04:41:59.698222000",
          "2025-07-02T04:42:59.698222000",
          "2025-07-02T04:43:59.698222000",
          "2025-07-02T04:44:59.698222000",
          "2025-07-02T04:45:59.698222000",
          "2025-07-02T04:46:59.698222000",
          "2025-07-02T04:47:59.698222000",
          "2025-07-02T04:48:59.698222000",
          "2025-07-02T04:49:59.698222000",
          "2025-07-02T04:50:59.698222000",
          "2025-07-02T04:51:59.698222000",
          "2025-07-02T04:52:59.698222000",
          "2025-07-02T04:53:59.698222000",
          "2025-07-02T04:54:59.698222000",
          "2025-07-02T04:55:59.698222000",
          "2025-07-02T04:56:59.698222000",
          "2025-07-02T04:57:59.698222000",
          "2025-07-02T04:58:59.698222000",
          "2025-07-02T04:59:59.698222000",
          "2025-07-02T05:00:59.698222000",
          "2025-07-02T05:01:59.698222000",
          "2025-07-02T05:02:59.698222000",
          "2025-07-02T05:03:59.698222000",
          "2025-07-02T05:04:59.698222000",
          "2025-07-02T05:05:59.698222000",
          "2025-07-02T05:06:59.698222000",
          "2025-07-02T05:07:59.698222000",
          "2025-07-02T05:08:59.698222000",
          "2025-07-02T05:09:59.698222000",
          "2025-07-02T05:10:59.698222000",
          "2025-07-02T05:11:59.698222000",
          "2025-07-02T05:12:59.698222000",
          "2025-07-02T05:13:59.698222000",
          "2025-07-02T05:14:59.698222000",
          "2025-07-02T05:15:59.698222000",
          "2025-07-02T05:16:59.698222000",
          "2025-07-02T05:17:59.698222000",
          "2025-07-02T05:18:59.698222000",
          "2025-07-02T05:19:59.698222000",
          "2025-07-02T05:20:59.698222000",
          "2025-07-02T05:21:59.698222000",
          "2025-07-02T05:22:59.698222000",
          "2025-07-02T05:23:59.698222000",
          "2025-07-02T05:24:59.698222000",
          "2025-07-02T05:25:59.698222000",
          "2025-07-02T05:26:59.698222000",
          "2025-07-02T05:27:59.698222000",
          "2025-07-02T05:28:59.698222000",
          "2025-07-02T05:29:59.698222000",
          "2025-07-02T05:30:59.698222000",
          "2025-07-02T05:31:59.698222000",
          "2025-07-02T05:32:59.698222000"
         ],
         "y": {
          "bdata": "MxvTQb3p0kEF/dJBo/rSQdP+0kEN4tJB/u/SQVrj0kFL9dJB6PzSQbwE00Fu/tJBzQbTQfYG00EzCtNBggfTQYAN00Gs+dJBAvrSQVwD00HdItNBxxvTQaIR00E8BNNBYvrSQVUK00GiBtNB8AjTQRsA00GuAdNBwAjTQVQT00GcI9NBoi3TQT8r00HDJNNBexHTQSsP00EgBtNBbgLTQdT/0kF/BtNBYfvSQfMD00HpIdNB2DXTQZUr00H/KtNBABnTQeUZ00HEGdNBHRHTQe0O00FV+tJBSPPSQT8K00GhHtNB/izTQWQn00HOJ9NB",
          "dtype": "f4"
         }
        },
        {
         "mode": "lines",
         "name": "iaq",
         "type": "scatter",
         "x": [
          "2025-07-02T04:33:59.698222000",
          "2025-07-02T04:34:59.698222000",
          "2025-07-02T04:35:59.698222000",
          "2025-07-02T04:36:59.698222000",
          "2025-07-02T04:37:59.698222000",
          "2025-07-02T04:38:59.698222000",
          "2025-07-02T04:39:59.698222000",
          "2025-07-02T04:40:59.698222000",
          "2025-07-02T04:41:59.698222000",
          "2025-07-02T04:42:59.698222000",
          "2025-07-02T04:43:59.698222000",
          "2025-07-02T04:44:59.698222000",
          "2025-07-02T04:45:59.698222000",
          "2025-07-02T04:46:59.698222000",
          "2025-07-02T04:47:59.698222000",
          "2025-07-02T04:48:59.698222000",
          "2025-07-02T04:49:59.698222000",
          "2025-07-02T04:50:59.698222000",
          "2025-07-02T04:51:59.698222000",
          "2025-07-02T04:52:59.698222000",
          "2025-07-02T04:53:59.698222000",
          "2025-07-02T04:54:59.698222000",
          "2025-07-02T04:55:59.698222000",
          "2025-07-02T04:56:59.698222000",
          "2025-07-02T04:57:59.698222000",
          "2025-07-02T04:58:59.698222000",
          "2025-07-02T04:59:59.698222000",
          "2025-07-02T05:00:59.698222000",
          "2025-07-02T05:01:59.698222000",
          "2025-07-02T05:02:59.698222000",
          "2025-07-02T05:03:59.698222000",
          "2025-07-02T05:04:59.698222000",
          "2025-07-02T05:05:59.698222000",
          "2025-07-02T05:06:59.698222000",
          "2025-07-02T05:07:59.698222000",
          "2025-07-02T05:08:59.698222000",
          "2025-07-02T05:09:59.698222000",
          "2025-07-02T05:10:59.698222000",
          "2025-07-02T05:11:59.698222000",
          "2025-07-02T05:12:59.698222000",
          "2025-07-02T05:13:59.698222000",
          "2025-07-02T05:14:59.698222000",
          "2025-07-02T05:15:59.698222000",
          "2025-07-02T05:16:59.698222000",
          "2025-07-02T05:17:59.698222000",
          "2025-07-02T05:18:59.698222000",
          "2025-07-02T05:19:59.698222000",
          "2025-07-02T05:20:59.698222000",
          "2025-07-02T05:21:59.698222000",
          "2025-07-02T05:22:59.698222000",
          "2025-07-02T05:23:59.698222000",
          "2025-07-02T05:24:59.698222000",
          "2025-07-02T05:25:59.698222000",
          "2025-07-02T05:26:59.698222000",
          "2025-07-02T05:27:59.698222000",
          "2025-07-02T05:28:59.698222000",
          "2025-07-02T05:29:59.698222000",
          "2025-07-02T05:30:59.698222000",
          "2025-07-02T05:31:59.698222000",
          "2025-07-02T05:32:59.698222000"
         ],
         "y": {
          "bdata": "mEXJQZpqyUH/fclBd5fJQRRyyUGnc8lBZorJQSeiyUETfclBs2nJQQFJyUGiMslBySLJQeJRyUE5VclBa0LJQYc+yUHcXMlBCIHJQaOMyUFZqclBu3TJQcJ3yUGCUMlB4GnJQeBvyUFzTclBblPJQfoVyUFBIclBGEnJQdpyyUF5fclBrWLJQZJnyUGfZ8lBAH/JQSh8yUGxZ8lBhVLJQaBKyUHILclBLUjJQapbyUEPSslBIjXJQaQ4yUF1TslBZG7JQVaUyUFrYMlBFXTJQWdVyUH8S8lBMlfJQYxiyUGKcMlBCTnJQaotyUGPLslB",
          "dtype": "f4"
         }
        },
        {
         "mode": "lines",
         "name": "co2",
         "type": "scatter",
         "x": [
          "2025-07-02T04:33:59.698222000",
          "2025-07-02T04:34:59.698222000",
          "2025-07-02T04:35:59.698222000",
          "2025-07-02T04:36:59.698222000",
          "2025-07-02T04:37:59.698222000",
          "2025-07-02T04:38:59.698222000",
          "2025-07-02T04:39:59.698222000",
          "2025-07-02T04:40:59.698222000",
          "2025-07-02T04:41:59.698222000",
          "2025-07-02T04:42:59.698222000",
          "2025-07-02T04:43:59.698222000",
          "2025-07-02T04:44:59.698222000",
          "2025-07-02T04:45:59.698222000",
          "2025-07-02T04:46:59.698222000",
          "2025-07-02T04:47:59.698222000",
          "2025-07-02T04:48:59.698222000",
          "2025-07-02T04:49:59.698222000",
          "2025-07-02T04:50:59.698222000",
          "2025-07-02T04:51:59.698222000",
          "2025-07-02T04:52:59.698222000",
          "2025-07-02T04:53:59.698222000",
          "2025-07-02T04:54:59.698222000",
          "2025-07-02T04:55:59.698222000",
          "2025-07-02T04:56:59.698222000",
          "2025-07-02T04:57:59.698222000",
          "2025-07-02T04:58:59.698222000",
          "2025-07-02T04:59:59.698222000",
          "2025-07-02T05:00:59.698222000",
          "2025-07-02T05:01:59.698222000",
          "2025-07-02T05:02:59.698222000",
          "2025-07-02T05:03:59.698222000",
          "2025-07-02T05:04:59.698222000",
          "2025-07-02T05:05:59.698222000",
          "2025-07-02T05:06:59.698222000",
          "2025-07-02T05:07:59.698222000",
          "2025-07-02T05:08:59.698222000",
          "2025-07-02T05:09:59.698222000",
          "2025-07-02T05:10:59.698222000",
          "2025-07-02T05:11:59.698222000",
          "2025-07-02T05:12:59.698222000",
          "2025-07-02T05:13:59.698222000",
          "2025-07-02T05:14:59.698222000",
          "2025-07-02T05:15:59.698222000",
          "2025-07-02T05:16:59.698222000",
          "2025-07-02T05:17:59.698222000",
          "2025-07-02T05:18:59.698222000",
          "2025-07-02T05:19:59.698222000",
          "2025-07-02T05:20:59.698222000",
          "2025-07-02T05:21:59.698222000",
          "2025-07-02T05:22:59.698222000",
          "2025-07-02T05:23:59.698222000",
          "2025-07-02T05:24:59.698222000",
          "2025-07-02T05:25:59.698222000",
          "2025-07-02T05:26:59.698222000",
          "2025-07-02T05:27:59.698222000",
          "2025-07-02T05:28:59.698222000",
          "2025-07-02T05:29:59.698222000",
          "2025-07-02T05:30:59.698222000",
          "2025-07-02T05:31:59.698222000",
          "2025-07-02T05:32:59.698222000"
         ],
         "y": {
          "bdata": "3esSRDrQEkR6nhFE2FASRGoZE0RAexNEK8cURE9CE0T1DBRE3x4SRG1TFUSa+hNEa2MTRPc4E0QWzxNEkwMURNbjEkTU3hJEytwURF5YFERX2RBEGHYQRBCUE0TU8hNEhxcURHDSFER6tBJES5sURP/YFEReMBVElYEURDv1EUS90xFEoaoQREvJD0SHfxFEU6oSRKJiFEQ8hRNEY3cTRGICFUQbxBVEG/8URORiE0S0nRFEUVgSROn8EUSv2BBE7nURRH0oEkQ4KBNEwJITRAm8EkRwZBVEnxQWRGeME0QwIxNEsCcSRLvXEEQvvBBE",
          "dtype": "f4"
         }
        }
       ],
       "layout": {
        "template": {
         "data": {
          "bar": [
           {
            "error_x": {
             "color": "#2a3f5f"
            },
            "error_y": {
             "color": "#2a3f5f"
            },
            "marker": {
             "line": {
              "color": "#E5ECF6",
              "width": 0.5
             },
             "pattern": {
              "fillmode": "overlay",
              "size": 10,
              "solidity": 0.2
             }
            },
            "type": "bar"
           }
          ],
          "barpolar": [
           {
            "marker": {
             "line": {
              "color": "#E5ECF6",
              "width": 0.5
             },
             "pattern": {
              "fillmode": "overlay",
              "size": 10,
              "solidity": 0.2
             }
            },
            "type": "barpolar"
           }
          ],
          "carpet": [
           {
            "aaxis": {
             "endlinecolor": "#2a3f5f",
             "gridcolor": "white",
             "linecolor": "white",
             "minorgridcolor": "white",
             "startlinecolor": "#2a3f5f"
            },
            "baxis": {
             "endlinecolor": "#2a3f5f",
             "gridcolor": "white",
             "linecolor": "white",
             "minorgridcolor": "white",
             "startlinecolor": "#2a3f5f"
            },
            "type": "carpet"
           }
          ],
          "choropleth": [
           {
            "colorbar": {
             "outlinewidth": 0,
             "ticks": ""
            },
            "type": "choropleth"
           }
          ],
          "contour": [
           {
            "colorbar": {
             "outlinewidth": 0,
             "ticks": ""
            },
            "colorscale": [
             [
              0,
              "#0d0887"
             ],
             [
              0.1111111111111111,
              "#46039f"
             ],
             [
              0.2222222222222222,
              "#7201a8"
             ],
             [
              0.3333333333333333,
              "#9c179e"
             ],
             [
              0.4444444444444444,
              "#bd3786"
             ],
             [
              0.5555555555555556,
              "#d8576b"
             ],
             [
              0.6666666666666666,
              "#ed7953"
             ],
             [
              0.7777777777777778,
              "#fb9f3a"
             ],
             [
              0.8888888888888888,
              "#fdca26"
             ],
             [
              1,
              "#f0f921"
             ]
            ],
            "type": "contour"
           }
          ],
          "contourcarpet": [
           {
            "colorbar": {
             "outlinewidth": 0,
             "ticks": ""
            },
            "type": "contourcarpet"
           }
          ],
          "heatmap": [
           {
            "colorbar": {
             "outlinewidth": 0,
             "ticks": ""
            },
            "colorscale": [
             [
              0,
              "#0d0887"
             ],
             [
              0.1111111111111111,
              "#46039f"
             ],
             [
              0.2222222222222222,
              "#7201a8"
             ],
             [
              0.3333333333333333,
              "#9c179e"
             ],
             [
              0.4444444444444444,
              "#bd3786"
             ],
             [
              0.5555555555555556,
              "#d8576b"
             ],
             [
              0.6666666666666666,
              "#ed7953"
             ],
             [
              0.7777777777777778,
              "#fb9f3a"
             ],
             [
              0.8888888888888888,
              "#fdca26"
             ],
             [
              1,
              "#f0f921"
             ]
            ],
            "type": "heatmap"
           }
          ],
          "histogram": [
           {
            "marker": {
             "pattern": {
              "fillmode": "overlay",
              "size": 10,
              "solidity": 0.2
             }
            },
            "type": "histogram"
           }
          ],
          "histogram2d": [
           {
            "colorbar": {
             "outlinewidth": 0,
             "ticks": ""
            },
            "colorscale": [
             [
              0,
              "#0d0887"
             ],
             [
              0.1111111111111111,
              "#46039f"
             ],
             [
              0.2222222222222222,
              "#7201a8"
             ],
             [
              0.3333333333333333,
              "#9c179e"
             ],
             [
              0.4444444444444444,
              "#bd3786"
             ],
             [
              0.5555555555555556,
              "#d8576b"
             ],
             [
              0.6666666666666666,
              "#ed7953"
             ],
             [
              0.7777777777777778,
              "#fb9f3a"
             ],
             [
              0.8888888888888888,
              "#fdca26"
             ],
             [
              1,
              "#f0f921"
             ]
            ],
            "type": "histogram2d"
           }
          ],
          "histogram2dcontour": [
           {
            "colorbar": {
             "outlinewidth": 0,
             "ticks": ""
            },
            "colorscale": [
             [
              0,
              "#0d0887"
             ],
             [
              0.1111111111111111,
              "#46039f"
             ],
             [
              0.2222222222222222,
              "#7201a8"
             ],
             [
              0.3333333333333333,
              "#9c179e"
             ],
             [
              0.4444444444444444,
              "#bd3786"
             ],
             [
              0.5555555555555556,
              "#d8576b"
             ],
             [
              0.6666666666666666,
              "#ed7953"
             ],
             [
              0.7777777777777778,
              "#fb9f3a"
             ],
             [
              0.8888888888888888,
              "#fdca26"
             ],
             [
              1,
              "#f0f921"
             ]
            ],
            "type": "histogram2dcontour"
           }
          ],
          "mesh3d": [
           {
            "colorbar": {
             "outlinewidth": 0,
             "ticks": ""
            },
            "type": "mesh3d"
           }
          ],
          "parcoords": [
           {
            "line": {
             "colorbar": {
              "outlinewidth": 0,
              "ticks": ""
             }
            },
            "type": "parcoords"
           }
          ],
          "pie": [
           {
            "automargin": true,
            "type": "pie"
           }
          ],
          "scatter": [
           {
            "fillpattern": {
             "fillmode": "overlay",
             "size": 10,
             "solidity": 0.2
            },
            "type": "scatter"
           }
          ],
          "scatter3d": [
           {
            "line": {
             "colorbar": {
              "outlinewidth": 0,
              "ticks": ""
             }
            },
            "marker": {
             "colorbar": {
              "outlinewidth": 0,
              "ticks": ""
             }
            },
            "type": "scatter3d"
           }
          ],
          "scattercarpet": [
           {
            "marker": {
             "colorbar": {
              "outlinewidth": 0,
              "ticks": ""
             }
            },
            "type": "scattercarpet"
           }
          ],
          "scattergeo": [
           {
            "marker": {
             "colorbar": {
              "outlinewidth": 0,
              "ticks": ""
             }
            },
            "type": "scattergeo"
           }
          ],
          "scattergl": [
           {
            "marker": {
             "colorbar": {
              "outlinewidth": 0,
              "ticks": ""
             }
            },
            "type": "scattergl"
           }
          ],
          "scattermap": [
           {
            "marker": {
             "colorbar": {
              "outlinewidth": 0,
              "ticks": ""
             }
            },
            "type": "scattermap"
           }
          ],
          "scattermapbox": [
           {
            "marker": {
             "colorbar": {
              "outlinewidth": 0,
              "ticks": ""
             }
            },
            "type": "scattermapbox"
           }
          ],
          "scatterpolar": [
           {
            "marker": {
             "colorbar": {
              "outlinewidth": 0,
              "ticks": ""
             }
            },
            "type": "scatterpolar"
           }
          ],
          "scatterpolargl": [
           {
            "marker": {
             "colorbar": {
              "outlinewidth": 0,
              "ticks": ""
             }
            },
            "type": "scatterpolargl"
           }
          ],
          "scatterternary": [
           {
            "marker": {
             "colorbar": {
              "outlinewidth": 0,
              "ticks": ""
             }
            },
            "type": "scatterternary"
           }
          ],
          "surface": [
           {
            "colorbar": {
             "outlinewidth": 0,
             "ticks": ""
            },
            "colorscale": [
             [
              0,
              "#0d0887"
             ],
             [
              0.1111111111111111,
              "#46039f"
             ],
             [
              0.2222222222222222,
              "#7201a8"
             ],
             [
              0.3333333333333333,
              "#9c179e"
             ],
             [
              0.4444444444444444,
              "#bd3786"
             ],
             [
              0.5555555555555556,
              "#d8576b"
             ],
             [
              0.6666666666666666,
              "#ed7953"
             ],
             [
              0.7777777777777778,
              "#fb9f3a"
             ],
             [
              0.8888888888888888,
              "#fdca26"
             ],
             [
              1,
              "#f0f921"
             ]
            ],
            "type": "surface"
           }
          ],
          "table": [
           {
            "cells": {
             "fill": {
              "color": "#EBF0F8"
             },
             "line": {
              "color": "white"
             }
            },
            "header": {
             "fill": {
              "color": "#C8D4E3"
             },
             "line": {
              "color": "white"
             }
            },
            "type": "table"
           }
          ]
         },
         "layout": {
          "annotationdefaults": {
           "arrowcolor": "#2a3f5f",
           "arrowhead": 0,
           "arrowwidth": 1
          },
          "autotypenumbers": "strict",
          "coloraxis": {
           "colorbar": {
            "outlinewidth": 0,
            "ticks": ""
           }
          },
          "colorscale": {
           "diverging": [
            [
             0,
             "#8e0152"
            ],
            [
             0.1,
             "#c51b7d"
            ],
            [
             0.2,
             "#de77ae"
            ],
            [
             0.3,
             "#f1b6da"
            ],
            [
             0.4,
             "#fde0ef"
            ],
            [
             0.5,
             "#f7f7f7"
            ],
            [
             0.6,
             "#e6f5d0"
            ],
            [
             0.7,
             "#b8e186"
            ],
            [
             0.8,
             "#7fbc41"
            ],
            [
             0.9,
             "#4d9221"
            ],
            [
             1,
             "#276419"
            ]
           ],
           "sequential": [
            [
             0,
             "#0d0887"
            ],
            [
             0.1111111111111111,
             "#46039f"
            ],
            [
             0.2222222222222222,
             "#7201a8"
            ],
            [
             0.3333333333333333,
             "#9c179e"
            ],
            [
             0.4444444444444444,
             "#bd3786"
            ],
            [
             0.5555555555555556,
             "#d8576b"
            ],
            [
             0.6666666666666666,
             "#ed7953"
            ],
            [
             0.7777777777777778,
             "#fb9f3a"
            ],
            [
             0.8888888888888888,
             "#fdca26"
            ],
            [
             1,
             "#f0f921"
            ]
           ],
           "sequentialminus": [
            [
             0,
             "#0d0887"
            ],
            [
             0.1111111111111111,
             "#46039f"
            ],
            [
             0.2222222222222222,
             "#7201a8"
            ],
            [
             0.3333333333333333,
             "#9c179e"
            ],
            [
             0.4444444444444444,
             "#bd3786"
            ],
            [
             0.5555555555555556,
             "#d8576b"
            ],
            [
             0.6666666666666666,
             "#ed7953"
            ],
            [
             0.7777777777777778,
             "#fb9f3a"
            ],
            [
             0.8888888888888888,
             "#fdca26"
            ],
            [
             1,
             "#f0f921"
            ]
           ]
          },
          "colorway": [
           "#636efa",
           "#EF553B",
           "#00cc96",
           "#ab63fa",
           "#FFA15A",
           "#19d3f3",
           "#FF6692",
           "#B6E880",
           "#FF97FF",
           "#FECB52"
          ],
          "font": {
           "color": "#2a3f5f"
          },
          "geo": {
           "bgcolor": "white",
           "lakecolor": "white",
           "landcolor": "#E5ECF6",
           "showlakes": true,
           "showland": true,
           "subunitcolor": "white"
          },
          "hoverlabel": {
           "align": "left"
          },
          "hovermode": "closest",
          "mapbox": {
           "style": "light"
          },
          "paper_bgcolor": "white",
          "plot_bgcolor": "#E5ECF6",
          "polar": {
           "angularaxis": {
            "gridcolor": "white",
            "linecolor": "white",
            "ticks": ""
           },
           "bgcolor": "#E5ECF6",
           "radialaxis": {
            "gridcolor": "white",
            "linecolor": "white",
            "ticks": ""
           }
          },
          "scene": {
           "xaxis": {
            "backgroundcolor": "#E5ECF6",
            "gridcolor": "white",
            "gridwidth": 2,
            "linecolor": "white",
            "showbackground": true,
            "ticks": "",
            "zerolinecolor": "white"
           },
           "yaxis": {
            "backgroundcolor": "#E5ECF6",
            "gridcolor": "white",
            "gridwidth": 2,
            "linecolor": "white",
            "showbackground": true,
            "ticks": "",
            "zerolinecolor": "white"
           },
           "zaxis": {
            "backgroundcolor": "#E5ECF6",
            "gridcolor": "white",
            "gridwidth": 2,
            "linecolor": "white",
            "showbackground": true,
            "ticks": "",
            "zerolinecolor": "white"
           }
          },
          "shapedefaults": {
           "line": {
            "color": "#2a3f5f"
           }
          },
          "ternary": {
           "aaxis": {
            "gridcolor": "white",
            "linecolor": "white",
            "ticks": ""
           },
           "baxis": {
            "gridcolor": "white",
            "linecolor": "white",
            "ticks": ""
           },
           "bgcolor": "#E5ECF6",
           "caxis": {
            "gridcolor": "white",
            "linecolor": "white",
            "ticks": ""
           }
          },
          "title": {
           "x": 0.05
          },
          "xaxis": {
           "automargin": true,
           "gridcolor": "white",
           "linecolor": "white",
           "ticks": "",
           "title": {
            "standoff": 15
           },
           "zerolinecolor": "white",
           "zerolinewidth": 2
          },
          "yaxis": {
           "automargin": true,
           "gridcolor": "white",
           "linecolor": "white",
           "ticks": "",
           "title": {
            "standoff": 15
           },
           "zerolinecolor": "white",
           "zerolinewidth": 2
          }
         }
        },
        "title": {
         "text": "Forecasted Sensor Values (Next 60 Minutes)"
        },
        "xaxis": {
         "title": {
          "text": "Time"
         }
        },
        "yaxis": {
         "title": {
          "text": "Sensor Value"
         }
        }
       }
      },
      "image/png": "[encoded data removed]"
     },
     "metadata": {},
     "output_type": "display_data"
    }
   ],
   "source": [
    "import pandas as pd\n",
    "import numpy as np\n",
    "import datetime\n",
    "from sklearn.preprocessing import MinMaxScaler\n",
    "from tensorflow.keras.models import load_model\n",
    "import plotly.graph_objects as go\n",
    "\n",
    "# Load your dataset\n",
    "df = pd.read_csv(\"merged_cleaned_dataset.csv\")\n",
    "df = df.dropna()\n",
    "df['timestamp'] = pd.to_datetime(df['timestamp'], dayfirst=True)\n",
    "df = df.sort_values('timestamp')\n",
    "\n",
    "# Prepare input\n",
    "features = ['ammonia', 'humidity', 'temperature', 'iaq', 'co2']\n",
    "recent_data = df[features].tail(30)\n",
    "\n",
    "scaler = MinMaxScaler()\n",
    "scaled_input = scaler.fit_transform(recent_data)\n",
    "X_input = scaled_input.reshape(1, 30, 5)\n",
    "\n",
    "# Load model and predict\n",
    "model = load_model(\"cnn_lstm_forecast_1hour.h5\", compile=False)\n",
    "pred = model.predict(X_input).reshape(60, 5)\n",
    "pred_df = pd.DataFrame(scaler.inverse_transform(pred), columns=features)\n",
    "\n",
    "# Generate timestamps\n",
    "now = datetime.datetime.now()\n",
    "pred_df['timestamp'] = [now + datetime.timedelta(minutes=i+1) for i in range(60)]\n",
    "\n",
    "# Plot\n",
    "fig = go.Figure()\n",
    "for col in features:\n",
    "    fig.add_trace(go.Scatter(x=pred_df['timestamp'], y=pred_df[col], mode='lines', name=col))\n",
    "fig.update_layout(title=\"Forecasted Sensor Values (Next 60 Minutes)\", xaxis_title=\"Time\", yaxis_title=\"Sensor Value\")\n",
    "fig.show()\n"
   ]
  },
  {
   "cell_type": "code",
   "execution_count": null,
   "id": "b8bef2c3-64a9-4239-8769-d4b2da24022f",
   "metadata": {},
   "outputs": [],
   "source": []
  }
 ],
 "metadata": {
  "kernelspec": {
   "display_name": "Python (tensorflow_env)",
   "language": "python",
   "name": "tensorflow_env"
  },
  "language_info": {
   "codemirror_mode": {
    "name": "ipython",
    "version": 3
   },
   "file_extension": ".py",
   "mimetype": "text/x-python",
   "name": "python",
   "nbconvert_exporter": "python",
   "pygments_lexer": "ipython3",
   "version": "3.11.0"
  }
 },
 "nbformat": 4,
 "nbformat_minor": 5
}
